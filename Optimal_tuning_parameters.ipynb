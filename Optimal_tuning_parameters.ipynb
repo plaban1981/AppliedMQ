{
  "nbformat": 4,
  "nbformat_minor": 0,
  "metadata": {
    "colab": {
      "name": "Optimal_tuning_parameters.ipynb",
      "version": "0.3.2",
      "provenance": [],
      "include_colab_link": true
    },
    "kernelspec": {
      "name": "python3",
      "display_name": "Python 3"
    },
    "accelerator": "GPU"
  },
  "cells": [
    {
      "cell_type": "markdown",
      "metadata": {
        "id": "view-in-github",
        "colab_type": "text"
      },
      "source": [
        "[View in Colaboratory](https://colab.research.google.com/github/plaban1981/AppliedMQ/blob/master/Optimal_tuning_parameters.ipynb)"
      ]
    },
    {
      "metadata": {
        "id": "K-ro4XhXkDoY",
        "colab_type": "text"
      },
      "cell_type": "markdown",
      "source": [
        "**Topics**\n",
        "\n",
        "1. Review of K-fold cross-validation\n",
        "2. Review of parameter tuning using cross_val_score\n",
        "3. More efficient parameter tuning using GridSearchCV\n",
        "4. Searching multiple parameters simultaneously\n",
        "5. Using the best parameters to make predictions\n",
        "6. Reducing computational expense using RandomizedSearchCV\n",
        "\n",
        "\n"
      ]
    },
    {
      "metadata": {
        "id": "bQ-ScHWpkvSh",
        "colab_type": "text"
      },
      "cell_type": "markdown",
      "source": [
        "# **1. Review of K-fold cross-validation**\n",
        "\n",
        "**Steps for cross-validation:**\n",
        "\n",
        "*   Dataset is split into K \"folds\" of equal size\n",
        "*   Each fold acts as the testing set 1 time, and acts as the training set K-1 times\n",
        "*   Average testing performance is used as the estimate of out-of-sample performance\n",
        "*   Also known as cross-validated performance\n",
        "\n",
        "\n",
        "\n",
        "**Benefits of cross-validation:**\n",
        "\n",
        "* More reliable estimate of out-of-sample performance than train/test split\n",
        "* Reduce the variance of a single trial of a train/test split\n",
        "* Can be used for\n",
        "* Selecting tuning parameters\n",
        "* Choosing between models\n",
        "* Selecting features\n",
        "\n",
        "**Drawbacks of cross-validation:**\n",
        "\n",
        "* Can be computationally expensive\n",
        " * Especially when the data set is very large or the model is slow to train\n"
      ]
    },
    {
      "metadata": {
        "id": "9OCd4J_PnYnG",
        "colab_type": "text"
      },
      "cell_type": "markdown",
      "source": [
        "# 2. Review of parameter tuning using cross_val_score\n",
        "Goal: Select the best tuning parameters (aka \"hyperparameters\") for KNN on the iris dataset\n",
        "\n",
        "To select the best value of k for KNN model to predict species"
      ]
    },
    {
      "metadata": {
        "id": "F-Teo-eznb7u",
        "colab_type": "code",
        "colab": {
          "base_uri": "https://localhost:8080/",
          "height": 71
        },
        "outputId": "61d639c2-fc8d-4061-de31-e9473c71e5e0"
      },
      "cell_type": "code",
      "source": [
        "# imports \n",
        "from sklearn.datasets import load_iris\n",
        "from sklearn.neighbors import KNeighborsClassifier\n",
        "from sklearn.cross_validation import cross_val_score\n",
        "import matplotlib.pyplot as plt\n",
        "%matplotlib inline"
      ],
      "execution_count": 1,
      "outputs": [
        {
          "output_type": "stream",
          "text": [
            "/usr/local/lib/python3.6/dist-packages/sklearn/cross_validation.py:41: DeprecationWarning: This module was deprecated in version 0.18 in favor of the model_selection module into which all the refactored classes and functions are moved. Also note that the interface of the new CV iterators are different from that of this module. This module will be removed in 0.20.\n",
            "  \"This module will be removed in 0.20.\", DeprecationWarning)\n"
          ],
          "name": "stderr"
        }
      ]
    },
    {
      "metadata": {
        "id": "AOhNyaG3ni38",
        "colab_type": "code",
        "colab": {
          "base_uri": "https://localhost:8080/",
          "height": 51
        },
        "outputId": "09c22b4d-c52a-45c4-88ce-55b4442f9c9c"
      },
      "cell_type": "code",
      "source": [
        "# read in the iris data\n",
        "iris = load_iris()\n",
        "\n",
        "# create X (features) and y (response)\n",
        "X = iris.data\n",
        "y = iris.target\n",
        "\n",
        "print('X matrix dimensionality:', X.shape)\n",
        "print('Y vector dimensionality:', y.shape)"
      ],
      "execution_count": 3,
      "outputs": [
        {
          "output_type": "stream",
          "text": [
            "X matrix dimensionality: (150, 4)\n",
            "Y vector dimensionality: (150,)\n"
          ],
          "name": "stdout"
        }
      ]
    },
    {
      "metadata": {
        "id": "DgKc0MGsoDda",
        "colab_type": "code",
        "colab": {
          "base_uri": "https://localhost:8080/",
          "height": 51
        },
        "outputId": "3a26c8bb-c178-4368-f1fe-181d0ae7eaa7"
      },
      "cell_type": "code",
      "source": [
        "# 10-fold (cv=10) cross-validation with K=5 (n_neighbors=5) for KNN (the n_neighbors parameter)\n",
        "\n",
        "# instantiate model\n",
        "knn = KNeighborsClassifier(n_neighbors=5)\n",
        "\n",
        "# store scores in scores object\n",
        "# scoring metric used here is 'accuracy' because it's a classification problem\n",
        "# cross_val_score takes care of splitting X and y into the 10 folds that's why we pass X and y entirely instead of X_train and y_train\n",
        "scores = cross_val_score(knn, X, y, cv=10, scoring='accuracy')\n",
        "print(scores)"
      ],
      "execution_count": 4,
      "outputs": [
        {
          "output_type": "stream",
          "text": [
            "[1.         0.93333333 1.         1.         0.86666667 0.93333333\n",
            " 0.93333333 1.         1.         1.        ]\n"
          ],
          "name": "stdout"
        }
      ]
    },
    {
      "metadata": {
        "id": "Jbngsh0cpUON",
        "colab_type": "code",
        "colab": {
          "base_uri": "https://localhost:8080/",
          "height": 34
        },
        "outputId": "61d988b7-1702-4df8-8394-3a271f515ad2"
      },
      "cell_type": "code",
      "source": [
        "# use average accuracy as an estimate of out-of-sample accuracy\n",
        "\n",
        "# scores is a numpy array so we can use the mean method\n",
        "print(scores.mean())"
      ],
      "execution_count": 5,
      "outputs": [
        {
          "output_type": "stream",
          "text": [
            "0.9666666666666668\n"
          ],
          "name": "stdout"
        }
      ]
    },
    {
      "metadata": {
        "id": "jDZHCaP4prF6",
        "colab_type": "code",
        "colab": {
          "base_uri": "https://localhost:8080/",
          "height": 54
        },
        "outputId": "bc29f3fb-ad1e-4edc-859e-819f7f7e46fc"
      },
      "cell_type": "code",
      "source": [
        "# search for an optimal value of K for KNN\n",
        "\n",
        "# list of integers 1 to 30\n",
        "# integers we want to try\n",
        "k_range = range(1, 31)\n",
        "\n",
        "# list of scores from k_range\n",
        "k_scores = []\n",
        "\n",
        "# 1. we will loop through reasonable values of k\n",
        "for k in k_range:\n",
        "    # 2. run KNeighborsClassifier with k neighbours\n",
        "    knn = KNeighborsClassifier(n_neighbors=k)\n",
        "    # 3. obtain cross_val_score for KNeighborsClassifier with k neighbours\n",
        "    scores = cross_val_score(knn, X, y, cv=10, scoring='accuracy')\n",
        "    # 4. append mean of scores for k neighbors to k_scores list\n",
        "    k_scores.append(scores.mean())\n",
        "print(k_scores)"
      ],
      "execution_count": 6,
      "outputs": [
        {
          "output_type": "stream",
          "text": [
            "[0.96, 0.9533333333333334, 0.9666666666666666, 0.9666666666666666, 0.9666666666666668, 0.9666666666666668, 0.9666666666666668, 0.9666666666666668, 0.9733333333333334, 0.9666666666666668, 0.9666666666666668, 0.9733333333333334, 0.9800000000000001, 0.9733333333333334, 0.9733333333333334, 0.9733333333333334, 0.9733333333333334, 0.9800000000000001, 0.9733333333333334, 0.9800000000000001, 0.9666666666666666, 0.9666666666666666, 0.9733333333333334, 0.96, 0.9666666666666666, 0.96, 0.9666666666666666, 0.9533333333333334, 0.9533333333333334, 0.9533333333333334]\n"
          ],
          "name": "stdout"
        }
      ]
    },
    {
      "metadata": {
        "id": "xcm_7s4sqd9s",
        "colab_type": "code",
        "colab": {
          "base_uri": "https://localhost:8080/",
          "height": 294
        },
        "outputId": "cce370b2-6756-4f45-b019-72d3d466db86"
      },
      "cell_type": "code",
      "source": [
        "plt.plot(range(1,31),k_scores)\n",
        "plt.xlabel('Number of K')\n",
        "plt.ylabel('Average Scores')\n",
        "plt.title('K vs Scores')\n",
        "plt.show()"
      ],
      "execution_count": 7,
      "outputs": [
        {
          "output_type": "display_data",
          "data": {
            "image/png": "[encoded data removed]",
            "text/plain": [
              "<matplotlib.figure.Figure at 0x7fd7ddac1128>"
            ]
          },
          "metadata": {
            "tags": []
          }
        }
      ]
    },
    {
      "metadata": {
        "id": "AwcqJq8lsN0A",
        "colab_type": "text"
      },
      "cell_type": "markdown",
      "source": [
        "# 3. More efficient parameter tuning using GridSearchCV¶\n",
        "Allows you to define a grid of parameters that will be searched using K-fold cross-validation\n",
        "\n",
        "This is like an automated version of the \"for loop\" above"
      ]
    },
    {
      "metadata": {
        "id": "UTirZqlRsQsh",
        "colab_type": "code",
        "colab": {}
      },
      "cell_type": "code",
      "source": [
        "from sklearn.model_selection import GridSearchCV"
      ],
      "execution_count": 0,
      "outputs": []
    },
    {
      "metadata": {
        "id": "syPZ_M1YrwT6",
        "colab_type": "code",
        "colab": {
          "base_uri": "https://localhost:8080/",
          "height": 34
        },
        "outputId": "5793a2e5-7c06-45bb-d143-6fd00d0cc523"
      },
      "cell_type": "code",
      "source": [
        "# define the parameter values that should be searched\n",
        "# for python 2, k_range = range(1, 31)\n",
        "k_range = list(range(1, 31))\n",
        "print(k_range)"
      ],
      "execution_count": 9,
      "outputs": [
        {
          "output_type": "stream",
          "text": [
            "[1, 2, 3, 4, 5, 6, 7, 8, 9, 10, 11, 12, 13, 14, 15, 16, 17, 18, 19, 20, 21, 22, 23, 24, 25, 26, 27, 28, 29, 30]\n"
          ],
          "name": "stdout"
        }
      ]
    },
    {
      "metadata": {
        "id": "4N4aMg8zuWZO",
        "colab_type": "code",
        "colab": {
          "base_uri": "https://localhost:8080/",
          "height": 34
        },
        "outputId": "99076bb6-9eb6-46cf-d63e-6fa92bf7532a"
      },
      "cell_type": "code",
      "source": [
        "# create a parameter grid: map the parameter names to the values that should be searched\n",
        "# simply a python dictionary\n",
        "# key: parameter name\n",
        "# value: list of values that should be searched for that parameter\n",
        "# single key-value pair for param_grid\n",
        "param_grid = dict(n_neighbors=k_range)\n",
        "print(param_grid)"
      ],
      "execution_count": 11,
      "outputs": [
        {
          "output_type": "stream",
          "text": [
            "{'n_neighbors': [1, 2, 3, 4, 5, 6, 7, 8, 9, 10, 11, 12, 13, 14, 15, 16, 17, 18, 19, 20, 21, 22, 23, 24, 25, 26, 27, 28, 29, 30]}\n"
          ],
          "name": "stdout"
        }
      ]
    },
    {
      "metadata": {
        "id": "QiXHPeOZvEfG",
        "colab_type": "code",
        "colab": {}
      },
      "cell_type": "code",
      "source": [
        "# instantiate the grid\n",
        "grid = GridSearchCV(knn, param_grid, cv=10, scoring='accuracy')"
      ],
      "execution_count": 0,
      "outputs": []
    },
    {
      "metadata": {
        "id": "e8h0yHwtvRVG",
        "colab_type": "text"
      },
      "cell_type": "markdown",
      "source": [
        "* Grid object is ready to do 10-fold cross validation on a KNN model using classification accuracy as the evaluation metric\n",
        "    * In addition, there is a parameter grid to repeat the 10-fold cross validation process 30 times\n",
        "    * Each time, the n_neighbors parameter should be given a different value from the list\n",
        "    * We can't give GridSearchCV just a list\n",
        "      * We've to specify n_neighbors should take on 1 through 30\n",
        "* You can set n_jobs = -1 to run computations in parallel (if supported by your computer and OS)\n",
        "  * This is also called parallel programming"
      ]
    },
    {
      "metadata": {
        "id": "pff2I82_v76t",
        "colab_type": "code",
        "colab": {
          "base_uri": "https://localhost:8080/",
          "height": 153
        },
        "outputId": "82250e1c-c0f6-4323-f5c5-779c36863158"
      },
      "cell_type": "code",
      "source": [
        "# fit the grid with data\n",
        "grid.fit(X, y)"
      ],
      "execution_count": 13,
      "outputs": [
        {
          "output_type": "execute_result",
          "data": {
            "text/plain": [
              "GridSearchCV(cv=10, error_score='raise',\n",
              "       estimator=KNeighborsClassifier(algorithm='auto', leaf_size=30, metric='minkowski',\n",
              "           metric_params=None, n_jobs=1, n_neighbors=30, p=2,\n",
              "           weights='uniform'),\n",
              "       fit_params=None, iid=True, n_jobs=1,\n",
              "       param_grid={'n_neighbors': [1, 2, 3, 4, 5, 6, 7, 8, 9, 10, 11, 12, 13, 14, 15, 16, 17, 18, 19, 20, 21, 22, 23, 24, 25, 26, 27, 28, 29, 30]},\n",
              "       pre_dispatch='2*n_jobs', refit=True, return_train_score='warn',\n",
              "       scoring='accuracy', verbose=0)"
            ]
          },
          "metadata": {
            "tags": []
          },
          "execution_count": 13
        }
      ]
    },
    {
      "metadata": {
        "id": "MulV445aw7rP",
        "colab_type": "text"
      },
      "cell_type": "markdown",
      "source": [
        "# Remember this is running 10-fold validation 30 times\n",
        "\n",
        "KNN model is being fit and predictions are being made 30 x 10 = 300 times"
      ]
    },
    {
      "metadata": {
        "id": "1s8Iy2tyw-ha",
        "colab_type": "code",
        "colab": {
          "base_uri": "https://localhost:8080/",
          "height": 581
        },
        "outputId": "f064ed11-156e-4ee9-efca-a4398849ff5a"
      },
      "cell_type": "code",
      "source": [
        "# view the complete results (list of named tuples)\n",
        "grid.grid_scores_"
      ],
      "execution_count": 14,
      "outputs": [
        {
          "output_type": "stream",
          "text": [
            "/usr/local/lib/python3.6/dist-packages/sklearn/model_selection/_search.py:762: DeprecationWarning: The grid_scores_ attribute was deprecated in version 0.18 in favor of the more elaborate cv_results_ attribute. The grid_scores_ attribute will not be available from 0.20\n",
            "  DeprecationWarning)\n"
          ],
          "name": "stderr"
        },
        {
          "output_type": "execute_result",
          "data": {
            "text/plain": [
              "[mean: 0.96000, std: 0.05333, params: {'n_neighbors': 1},\n",
              " mean: 0.95333, std: 0.05207, params: {'n_neighbors': 2},\n",
              " mean: 0.96667, std: 0.04472, params: {'n_neighbors': 3},\n",
              " mean: 0.96667, std: 0.04472, params: {'n_neighbors': 4},\n",
              " mean: 0.96667, std: 0.04472, params: {'n_neighbors': 5},\n",
              " mean: 0.96667, std: 0.04472, params: {'n_neighbors': 6},\n",
              " mean: 0.96667, std: 0.04472, params: {'n_neighbors': 7},\n",
              " mean: 0.96667, std: 0.04472, params: {'n_neighbors': 8},\n",
              " mean: 0.97333, std: 0.03266, params: {'n_neighbors': 9},\n",
              " mean: 0.96667, std: 0.04472, params: {'n_neighbors': 10},\n",
              " mean: 0.96667, std: 0.04472, params: {'n_neighbors': 11},\n",
              " mean: 0.97333, std: 0.03266, params: {'n_neighbors': 12},\n",
              " mean: 0.98000, std: 0.03055, params: {'n_neighbors': 13},\n",
              " mean: 0.97333, std: 0.04422, params: {'n_neighbors': 14},\n",
              " mean: 0.97333, std: 0.03266, params: {'n_neighbors': 15},\n",
              " mean: 0.97333, std: 0.03266, params: {'n_neighbors': 16},\n",
              " mean: 0.97333, std: 0.03266, params: {'n_neighbors': 17},\n",
              " mean: 0.98000, std: 0.03055, params: {'n_neighbors': 18},\n",
              " mean: 0.97333, std: 0.03266, params: {'n_neighbors': 19},\n",
              " mean: 0.98000, std: 0.03055, params: {'n_neighbors': 20},\n",
              " mean: 0.96667, std: 0.03333, params: {'n_neighbors': 21},\n",
              " mean: 0.96667, std: 0.03333, params: {'n_neighbors': 22},\n",
              " mean: 0.97333, std: 0.03266, params: {'n_neighbors': 23},\n",
              " mean: 0.96000, std: 0.04422, params: {'n_neighbors': 24},\n",
              " mean: 0.96667, std: 0.03333, params: {'n_neighbors': 25},\n",
              " mean: 0.96000, std: 0.04422, params: {'n_neighbors': 26},\n",
              " mean: 0.96667, std: 0.04472, params: {'n_neighbors': 27},\n",
              " mean: 0.95333, std: 0.04269, params: {'n_neighbors': 28},\n",
              " mean: 0.95333, std: 0.04269, params: {'n_neighbors': 29},\n",
              " mean: 0.95333, std: 0.04269, params: {'n_neighbors': 30}]"
            ]
          },
          "metadata": {
            "tags": []
          },
          "execution_count": 14
        }
      ]
    },
    {
      "metadata": {
        "id": "LhaR-tw06uHN",
        "colab_type": "code",
        "colab": {
          "base_uri": "https://localhost:8080/",
          "height": 527
        },
        "outputId": "d558fa11-7ef4-465a-ec11-99441077fd76"
      },
      "cell_type": "code",
      "source": [
        "K_neigbors = grid.cv_results_['param_n_neighbors'].data.tolist()\n",
        "K_neigbors"
      ],
      "execution_count": 23,
      "outputs": [
        {
          "output_type": "execute_result",
          "data": {
            "text/plain": [
              "[1,\n",
              " 2,\n",
              " 3,\n",
              " 4,\n",
              " 5,\n",
              " 6,\n",
              " 7,\n",
              " 8,\n",
              " 9,\n",
              " 10,\n",
              " 11,\n",
              " 12,\n",
              " 13,\n",
              " 14,\n",
              " 15,\n",
              " 16,\n",
              " 17,\n",
              " 18,\n",
              " 19,\n",
              " 20,\n",
              " 21,\n",
              " 22,\n",
              " 23,\n",
              " 24,\n",
              " 25,\n",
              " 26,\n",
              " 27,\n",
              " 28,\n",
              " 29,\n",
              " 30]"
            ]
          },
          "metadata": {
            "tags": []
          },
          "execution_count": 23
        }
      ]
    },
    {
      "metadata": {
        "id": "ZLYRkPvf7eLG",
        "colab_type": "code",
        "colab": {
          "base_uri": "https://localhost:8080/",
          "height": 527
        },
        "outputId": "ce70727b-bea0-4ee0-9cb3-c93c90b70c1c"
      },
      "cell_type": "code",
      "source": [
        "mean_scores = grid.cv_results_['mean_test_score'].tolist()\n",
        "mean_scores"
      ],
      "execution_count": 25,
      "outputs": [
        {
          "output_type": "execute_result",
          "data": {
            "text/plain": [
              "[0.96,\n",
              " 0.9533333333333334,\n",
              " 0.9666666666666667,\n",
              " 0.9666666666666667,\n",
              " 0.9666666666666667,\n",
              " 0.9666666666666667,\n",
              " 0.9666666666666667,\n",
              " 0.9666666666666667,\n",
              " 0.9733333333333334,\n",
              " 0.9666666666666667,\n",
              " 0.9666666666666667,\n",
              " 0.9733333333333334,\n",
              " 0.98,\n",
              " 0.9733333333333334,\n",
              " 0.9733333333333334,\n",
              " 0.9733333333333334,\n",
              " 0.9733333333333334,\n",
              " 0.98,\n",
              " 0.9733333333333334,\n",
              " 0.98,\n",
              " 0.9666666666666667,\n",
              " 0.9666666666666667,\n",
              " 0.9733333333333334,\n",
              " 0.96,\n",
              " 0.9666666666666667,\n",
              " 0.96,\n",
              " 0.9666666666666667,\n",
              " 0.9533333333333334,\n",
              " 0.9533333333333334,\n",
              " 0.9533333333333334]"
            ]
          },
          "metadata": {
            "tags": []
          },
          "execution_count": 25
        }
      ]
    },
    {
      "metadata": {
        "id": "nOeYT9Ys7uHP",
        "colab_type": "code",
        "colab": {
          "base_uri": "https://localhost:8080/",
          "height": 311
        },
        "outputId": "81a4045c-3495-477f-dc6f-f658b9f8dd20"
      },
      "cell_type": "code",
      "source": [
        "plt.plot(K_neigbors,mean_scores)\n",
        "plt.xlabel('Number of Neigbors')\n",
        "plt.ylabel('Accuracy Scores')\n",
        "plt.title('Optimal K values')"
      ],
      "execution_count": 26,
      "outputs": [
        {
          "output_type": "execute_result",
          "data": {
            "text/plain": [
              "Text(0.5,1,'Optimal K values')"
            ]
          },
          "metadata": {
            "tags": []
          },
          "execution_count": 26
        },
        {
          "output_type": "display_data",
          "data": {
            "image/png": "[encoded data removed]",
            "text/plain": [
              "<matplotlib.figure.Figure at 0x7fd7db162dd8>"
            ]
          },
          "metadata": {
            "tags": []
          }
        }
      ]
    },
    {
      "metadata": {
        "id": "L6K0MnC5xuw8",
        "colab_type": "text"
      },
      "cell_type": "markdown",
      "source": [
        "# List of 30 named tuples\n",
        "\n",
        "* First tuple\n",
        "    * When n_neighbors = 1\n",
        "    * Mean of accuracy scores = 0.96\n",
        "    * Standard deviation of accuracy scores = 0.053\n",
        "      * If SD is high, the cross-validated estimate of the accuracy might not be as reliable\n",
        "* There is one tuple for each of the 30 trials of CV"
      ]
    },
    {
      "metadata": {
        "id": "eyDyBrhwyBVw",
        "colab_type": "code",
        "colab": {
          "base_uri": "https://localhost:8080/",
          "height": 258
        },
        "outputId": "9267a38d-8aea-490e-e18d-480ce145c67a"
      },
      "cell_type": "code",
      "source": [
        "# examine the first tuple\n",
        "# we will slice the list and select its elements using dot notation and []\n",
        "\n",
        "\n",
        "print('Parameters')\n",
        "print(grid.grid_scores_[0].parameters)\n",
        "\n",
        "# Array of 10 accuracy scores during 10-fold cv using the parameters\n",
        "print('')\n",
        "print('CV Validation Score')\n",
        "print(grid.grid_scores_[0].cv_validation_scores)\n",
        "\n",
        "# Mean of the 10 scores\n",
        "print('')\n",
        "print('Mean Validation Score')\n",
        "#print(grid.grid_scores_[0].mean_validation_score)\n",
        "print(grid.cv_results_['mean_test_score'][0])"
      ],
      "execution_count": 28,
      "outputs": [
        {
          "output_type": "stream",
          "text": [
            "Parameters\n",
            "{'n_neighbors': 1}\n",
            "\n",
            "CV Validation Score\n",
            "[1.         0.93333333 1.         0.93333333 0.86666667 1.\n",
            " 0.86666667 1.         1.         1.        ]\n",
            "\n",
            "Mean Validation Score\n",
            "0.96\n"
          ],
          "name": "stdout"
        },
        {
          "output_type": "stream",
          "text": [
            "/usr/local/lib/python3.6/dist-packages/sklearn/model_selection/_search.py:762: DeprecationWarning: The grid_scores_ attribute was deprecated in version 0.18 in favor of the more elaborate cv_results_ attribute. The grid_scores_ attribute will not be available from 0.20\n",
            "  DeprecationWarning)\n",
            "/usr/local/lib/python3.6/dist-packages/sklearn/model_selection/_search.py:762: DeprecationWarning: The grid_scores_ attribute was deprecated in version 0.18 in favor of the more elaborate cv_results_ attribute. The grid_scores_ attribute will not be available from 0.20\n",
            "  DeprecationWarning)\n"
          ],
          "name": "stderr"
        }
      ]
    },
    {
      "metadata": {
        "id": "QULNu4w38fsk",
        "colab_type": "code",
        "colab": {
          "base_uri": "https://localhost:8080/",
          "height": 3845
        },
        "outputId": "258809e3-83ee-4c61-aedb-30f61f8795d6"
      },
      "cell_type": "code",
      "source": [
        "grid.cv_results_"
      ],
      "execution_count": 29,
      "outputs": [
        {
          "output_type": "stream",
          "text": [
            "/usr/local/lib/python3.6/dist-packages/sklearn/utils/deprecation.py:122: FutureWarning: You are accessing a training score ('mean_train_score'), which will not be available by default any more in 0.21. If you need training scores, please set return_train_score=True\n",
            "  warnings.warn(*warn_args, **warn_kwargs)\n",
            "/usr/local/lib/python3.6/dist-packages/sklearn/utils/deprecation.py:122: FutureWarning: You are accessing a training score ('split0_train_score'), which will not be available by default any more in 0.21. If you need training scores, please set return_train_score=True\n",
            "  warnings.warn(*warn_args, **warn_kwargs)\n",
            "/usr/local/lib/python3.6/dist-packages/sklearn/utils/deprecation.py:122: FutureWarning: You are accessing a training score ('split1_train_score'), which will not be available by default any more in 0.21. If you need training scores, please set return_train_score=True\n",
            "  warnings.warn(*warn_args, **warn_kwargs)\n",
            "/usr/local/lib/python3.6/dist-packages/sklearn/utils/deprecation.py:122: FutureWarning: You are accessing a training score ('split2_train_score'), which will not be available by default any more in 0.21. If you need training scores, please set return_train_score=True\n",
            "  warnings.warn(*warn_args, **warn_kwargs)\n",
            "/usr/local/lib/python3.6/dist-packages/sklearn/utils/deprecation.py:122: FutureWarning: You are accessing a training score ('split3_train_score'), which will not be available by default any more in 0.21. If you need training scores, please set return_train_score=True\n",
            "  warnings.warn(*warn_args, **warn_kwargs)\n",
            "/usr/local/lib/python3.6/dist-packages/sklearn/utils/deprecation.py:122: FutureWarning: You are accessing a training score ('split4_train_score'), which will not be available by default any more in 0.21. If you need training scores, please set return_train_score=True\n",
            "  warnings.warn(*warn_args, **warn_kwargs)\n",
            "/usr/local/lib/python3.6/dist-packages/sklearn/utils/deprecation.py:122: FutureWarning: You are accessing a training score ('split5_train_score'), which will not be available by default any more in 0.21. If you need training scores, please set return_train_score=True\n",
            "  warnings.warn(*warn_args, **warn_kwargs)\n",
            "/usr/local/lib/python3.6/dist-packages/sklearn/utils/deprecation.py:122: FutureWarning: You are accessing a training score ('split6_train_score'), which will not be available by default any more in 0.21. If you need training scores, please set return_train_score=True\n",
            "  warnings.warn(*warn_args, **warn_kwargs)\n",
            "/usr/local/lib/python3.6/dist-packages/sklearn/utils/deprecation.py:122: FutureWarning: You are accessing a training score ('split7_train_score'), which will not be available by default any more in 0.21. If you need training scores, please set return_train_score=True\n",
            "  warnings.warn(*warn_args, **warn_kwargs)\n",
            "/usr/local/lib/python3.6/dist-packages/sklearn/utils/deprecation.py:122: FutureWarning: You are accessing a training score ('split8_train_score'), which will not be available by default any more in 0.21. If you need training scores, please set return_train_score=True\n",
            "  warnings.warn(*warn_args, **warn_kwargs)\n",
            "/usr/local/lib/python3.6/dist-packages/sklearn/utils/deprecation.py:122: FutureWarning: You are accessing a training score ('split9_train_score'), which will not be available by default any more in 0.21. If you need training scores, please set return_train_score=True\n",
            "  warnings.warn(*warn_args, **warn_kwargs)\n",
            "/usr/local/lib/python3.6/dist-packages/sklearn/utils/deprecation.py:122: FutureWarning: You are accessing a training score ('std_train_score'), which will not be available by default any more in 0.21. If you need training scores, please set return_train_score=True\n",
            "  warnings.warn(*warn_args, **warn_kwargs)\n"
          ],
          "name": "stderr"
        },
        {
          "output_type": "execute_result",
          "data": {
            "text/plain": [
              "{'mean_fit_time': array([0.00069759, 0.00034382, 0.00035157, 0.00034304, 0.00034938,\n",
              "        0.00034082, 0.0003366 , 0.00035834, 0.00035179, 0.0003324 ,\n",
              "        0.00034106, 0.00034344, 0.00035546, 0.00037184, 0.00035439,\n",
              "        0.00035939, 0.00033693, 0.00033948, 0.00034022, 0.00034873,\n",
              "        0.00034854, 0.00035064, 0.00035756, 0.00035133, 0.00035386,\n",
              "        0.00035388, 0.00035856, 0.00035136, 0.00034087, 0.00034299]),\n",
              " 'mean_score_time': array([0.00063272, 0.00059941, 0.00059783, 0.00059967, 0.00061707,\n",
              "        0.00060196, 0.00059693, 0.00062153, 0.0006197 , 0.0005976 ,\n",
              "        0.00059552, 0.00061717, 0.0006551 , 0.00066972, 0.00064206,\n",
              "        0.00063684, 0.0006572 , 0.00065482, 0.0006305 , 0.00065575,\n",
              "        0.00063677, 0.00063643, 0.00064631, 0.00065429, 0.00068107,\n",
              "        0.00066252, 0.00066986, 0.00066988, 0.00068412, 0.0006542 ]),\n",
              " 'mean_test_score': array([0.96      , 0.95333333, 0.96666667, 0.96666667, 0.96666667,\n",
              "        0.96666667, 0.96666667, 0.96666667, 0.97333333, 0.96666667,\n",
              "        0.96666667, 0.97333333, 0.98      , 0.97333333, 0.97333333,\n",
              "        0.97333333, 0.97333333, 0.98      , 0.97333333, 0.98      ,\n",
              "        0.96666667, 0.96666667, 0.97333333, 0.96      , 0.96666667,\n",
              "        0.96      , 0.96666667, 0.95333333, 0.95333333, 0.95333333]),\n",
              " 'mean_train_score': array([1.        , 0.97851852, 0.96074074, 0.9637037 , 0.96888889,\n",
              "        0.97259259, 0.97333333, 0.97925926, 0.97925926, 0.9762963 ,\n",
              "        0.98      , 0.97851852, 0.98      , 0.97925926, 0.97925926,\n",
              "        0.97777778, 0.97777778, 0.97777778, 0.97777778, 0.97407407,\n",
              "        0.97555556, 0.97111111, 0.97333333, 0.97037037, 0.96962963,\n",
              "        0.96      , 0.96148148, 0.95481481, 0.95925926, 0.95259259]),\n",
              " 'param_n_neighbors': masked_array(data=[1, 2, 3, 4, 5, 6, 7, 8, 9, 10, 11, 12, 13, 14, 15, 16,\n",
              "                    17, 18, 19, 20, 21, 22, 23, 24, 25, 26, 27, 28, 29, 30],\n",
              "              mask=[False, False, False, False, False, False, False, False,\n",
              "                    False, False, False, False, False, False, False, False,\n",
              "                    False, False, False, False, False, False, False, False,\n",
              "                    False, False, False, False, False, False],\n",
              "        fill_value='?',\n",
              "             dtype=object),\n",
              " 'params': [{'n_neighbors': 1},\n",
              "  {'n_neighbors': 2},\n",
              "  {'n_neighbors': 3},\n",
              "  {'n_neighbors': 4},\n",
              "  {'n_neighbors': 5},\n",
              "  {'n_neighbors': 6},\n",
              "  {'n_neighbors': 7},\n",
              "  {'n_neighbors': 8},\n",
              "  {'n_neighbors': 9},\n",
              "  {'n_neighbors': 10},\n",
              "  {'n_neighbors': 11},\n",
              "  {'n_neighbors': 12},\n",
              "  {'n_neighbors': 13},\n",
              "  {'n_neighbors': 14},\n",
              "  {'n_neighbors': 15},\n",
              "  {'n_neighbors': 16},\n",
              "  {'n_neighbors': 17},\n",
              "  {'n_neighbors': 18},\n",
              "  {'n_neighbors': 19},\n",
              "  {'n_neighbors': 20},\n",
              "  {'n_neighbors': 21},\n",
              "  {'n_neighbors': 22},\n",
              "  {'n_neighbors': 23},\n",
              "  {'n_neighbors': 24},\n",
              "  {'n_neighbors': 25},\n",
              "  {'n_neighbors': 26},\n",
              "  {'n_neighbors': 27},\n",
              "  {'n_neighbors': 28},\n",
              "  {'n_neighbors': 29},\n",
              "  {'n_neighbors': 30}],\n",
              " 'rank_test_score': array([24, 27, 12, 12, 12, 12, 12, 12,  4, 12, 12,  4,  1,  4,  4,  4,  4,\n",
              "         1,  4,  1, 12, 12,  4, 24, 12, 24, 12, 27, 27, 27], dtype=int32),\n",
              " 'split0_test_score': array([1.        , 1.        , 1.        , 1.        , 1.        ,\n",
              "        1.        , 1.        , 1.        , 1.        , 1.        ,\n",
              "        1.        , 1.        , 1.        , 1.        , 0.93333333,\n",
              "        1.        , 0.93333333, 1.        , 0.93333333, 1.        ,\n",
              "        0.93333333, 0.93333333, 0.93333333, 0.93333333, 0.93333333,\n",
              "        0.93333333, 0.93333333, 0.93333333, 0.93333333, 0.93333333]),\n",
              " 'split0_train_score': array([1.        , 0.97037037, 0.95555556, 0.95555556, 0.96296296,\n",
              "        0.97037037, 0.96296296, 0.97037037, 0.97037037, 0.97037037,\n",
              "        0.97037037, 0.97037037, 0.97777778, 0.97037037, 0.97777778,\n",
              "        0.97037037, 0.97777778, 0.97777778, 0.97777778, 0.97777778,\n",
              "        0.97777778, 0.97777778, 0.97777778, 0.97037037, 0.97777778,\n",
              "        0.96296296, 0.96296296, 0.94814815, 0.95555556, 0.94814815]),\n",
              " 'split1_test_score': array([0.93333333, 0.93333333, 0.93333333, 0.93333333, 0.93333333,\n",
              "        0.93333333, 0.93333333, 0.93333333, 0.93333333, 0.93333333,\n",
              "        0.93333333, 0.93333333, 0.93333333, 0.93333333, 0.93333333,\n",
              "        0.93333333, 0.93333333, 0.93333333, 0.93333333, 0.93333333,\n",
              "        0.93333333, 0.93333333, 0.93333333, 0.93333333, 0.93333333,\n",
              "        0.93333333, 0.93333333, 0.93333333, 0.93333333, 0.93333333]),\n",
              " 'split1_train_score': array([1.        , 0.98518519, 0.96296296, 0.96296296, 0.97037037,\n",
              "        0.97037037, 0.97777778, 0.98518519, 0.98518519, 0.98518519,\n",
              "        0.98518519, 0.99259259, 0.97777778, 0.97777778, 0.97777778,\n",
              "        0.98518519, 0.98518519, 0.98518519, 0.98518519, 0.98518519,\n",
              "        0.98518519, 0.98518519, 0.97037037, 0.97777778, 0.97777778,\n",
              "        0.98518519, 0.97777778, 0.97777778, 0.97777778, 0.95555556]),\n",
              " 'split2_test_score': array([1., 1., 1., 1., 1., 1., 1., 1., 1., 1., 1., 1., 1., 1., 1., 1., 1.,\n",
              "        1., 1., 1., 1., 1., 1., 1., 1., 1., 1., 1., 1., 1.]),\n",
              " 'split2_train_score': array([1.        , 0.97777778, 0.95555556, 0.95555556, 0.96296296,\n",
              "        0.97037037, 0.97037037, 0.97777778, 0.97777778, 0.97777778,\n",
              "        0.98518519, 0.98518519, 0.97777778, 0.98518519, 0.97777778,\n",
              "        0.98518519, 0.97777778, 0.97777778, 0.97777778, 0.96296296,\n",
              "        0.97037037, 0.95555556, 0.96296296, 0.94814815, 0.94814815,\n",
              "        0.93333333, 0.94074074, 0.94814815, 0.95555556, 0.94814815]),\n",
              " 'split3_test_score': array([0.93333333, 0.93333333, 0.93333333, 0.93333333, 1.        ,\n",
              "        1.        , 1.        , 1.        , 1.        , 1.        ,\n",
              "        1.        , 1.        , 1.        , 1.        , 1.        ,\n",
              "        1.        , 1.        , 1.        , 1.        , 1.        ,\n",
              "        1.        , 1.        , 1.        , 1.        , 1.        ,\n",
              "        1.        , 1.        , 0.93333333, 0.93333333, 0.93333333]),\n",
              " 'split3_train_score': array([1.        , 0.98518519, 0.96296296, 0.96296296, 0.97037037,\n",
              "        0.97777778, 0.97037037, 0.98518519, 0.98518519, 0.97777778,\n",
              "        0.97777778, 0.97777778, 0.97777778, 0.97777778, 0.97777778,\n",
              "        0.98518519, 0.97777778, 0.97777778, 0.97777778, 0.97777778,\n",
              "        0.97777778, 0.97777778, 0.97777778, 0.97777778, 0.97037037,\n",
              "        0.96296296, 0.97037037, 0.96296296, 0.97037037, 0.94814815]),\n",
              " 'split4_test_score': array([0.86666667, 0.86666667, 0.86666667, 0.86666667, 0.86666667,\n",
              "        0.86666667, 0.86666667, 1.        , 1.        , 1.        ,\n",
              "        1.        , 1.        , 1.        , 1.        , 1.        ,\n",
              "        1.        , 1.        , 1.        , 1.        , 1.        ,\n",
              "        0.93333333, 1.        , 1.        , 1.        , 1.        ,\n",
              "        1.        , 1.        , 1.        , 1.        , 1.        ]),\n",
              " 'split4_train_score': array([1.        , 0.97777778, 0.97777778, 0.97777778, 0.98518519,\n",
              "        0.98518519, 0.98518519, 0.97777778, 0.97777778, 0.97777778,\n",
              "        0.98518519, 0.97777778, 0.98518519, 0.97777778, 0.97777778,\n",
              "        0.97777778, 0.97777778, 0.97777778, 0.97777778, 0.97777778,\n",
              "        0.97777778, 0.97037037, 0.97777778, 0.97037037, 0.97037037,\n",
              "        0.95555556, 0.94814815, 0.94814815, 0.94814815, 0.94814815]),\n",
              " 'split5_test_score': array([1.        , 1.        , 1.        , 1.        , 0.93333333,\n",
              "        0.93333333, 0.93333333, 0.86666667, 0.93333333, 0.86666667,\n",
              "        0.86666667, 0.93333333, 0.93333333, 0.86666667, 0.93333333,\n",
              "        0.93333333, 0.93333333, 0.93333333, 0.93333333, 0.93333333,\n",
              "        0.93333333, 0.93333333, 0.93333333, 0.86666667, 0.93333333,\n",
              "        0.86666667, 0.86666667, 0.86666667, 0.86666667, 0.86666667]),\n",
              " 'split5_train_score': array([1.        , 0.97037037, 0.95555556, 0.96296296, 0.96296296,\n",
              "        0.95555556, 0.97037037, 0.97037037, 0.97777778, 0.97037037,\n",
              "        0.98518519, 0.97777778, 0.98518519, 0.97777778, 0.97777778,\n",
              "        0.97777778, 0.98518519, 0.98518519, 0.97777778, 0.97777778,\n",
              "        0.97777778, 0.97777778, 0.97777778, 0.97777778, 0.97777778,\n",
              "        0.96296296, 0.97037037, 0.96296296, 0.96296296, 0.96296296]),\n",
              " 'split6_test_score': array([0.86666667, 0.86666667, 0.93333333, 0.93333333, 0.93333333,\n",
              "        0.93333333, 0.93333333, 0.93333333, 0.93333333, 0.93333333,\n",
              "        0.93333333, 0.93333333, 0.93333333, 0.93333333, 0.93333333,\n",
              "        0.93333333, 0.93333333, 0.93333333, 0.93333333, 0.93333333,\n",
              "        0.93333333, 0.93333333, 0.93333333, 0.93333333, 0.93333333,\n",
              "        0.93333333, 0.93333333, 0.93333333, 0.93333333, 0.93333333]),\n",
              " 'split6_train_score': array([1.        , 0.98518519, 0.97037037, 0.97037037, 0.97777778,\n",
              "        0.98518519, 0.97777778, 0.99259259, 0.99259259, 0.98518519,\n",
              "        0.99259259, 0.98518519, 0.99259259, 0.99259259, 0.98518519,\n",
              "        0.98518519, 0.97777778, 0.98518519, 0.98518519, 0.98518519,\n",
              "        0.98518519, 0.97777778, 0.97777778, 0.97777778, 0.97777778,\n",
              "        0.96296296, 0.97037037, 0.95555556, 0.96296296, 0.96296296]),\n",
              " 'split7_test_score': array([1.        , 0.93333333, 1.        , 1.        , 1.        ,\n",
              "        1.        , 1.        , 0.93333333, 0.93333333, 0.93333333,\n",
              "        0.93333333, 0.93333333, 1.        , 1.        , 1.        ,\n",
              "        0.93333333, 1.        , 1.        , 1.        , 1.        ,\n",
              "        1.        , 0.93333333, 1.        , 0.93333333, 0.93333333,\n",
              "        0.93333333, 1.        , 0.93333333, 0.93333333, 0.93333333]),\n",
              " 'split7_train_score': array([1.        , 0.97777778, 0.95555556, 0.96296296, 0.96296296,\n",
              "        0.97037037, 0.97037037, 0.97777778, 0.97037037, 0.97777778,\n",
              "        0.97777778, 0.97037037, 0.97037037, 0.97777778, 0.97777778,\n",
              "        0.97037037, 0.97777778, 0.97777778, 0.97777778, 0.97777778,\n",
              "        0.97777778, 0.97037037, 0.97777778, 0.97777778, 0.97777778,\n",
              "        0.97037037, 0.97037037, 0.96296296, 0.96296296, 0.95555556]),\n",
              " 'split8_test_score': array([1., 1., 1., 1., 1., 1., 1., 1., 1., 1., 1., 1., 1., 1., 1., 1., 1.,\n",
              "        1., 1., 1., 1., 1., 1., 1., 1., 1., 1., 1., 1., 1.]),\n",
              " 'split8_train_score': array([1.        , 0.97777778, 0.95555556, 0.95555556, 0.96296296,\n",
              "        0.97037037, 0.97037037, 0.97777778, 0.97777778, 0.97777778,\n",
              "        0.97777778, 0.98518519, 0.97777778, 0.98518519, 0.98518519,\n",
              "        0.97777778, 0.97777778, 0.97777778, 0.97777778, 0.97777778,\n",
              "        0.97777778, 0.97037037, 0.97777778, 0.97037037, 0.97037037,\n",
              "        0.96296296, 0.97037037, 0.94814815, 0.95555556, 0.95555556]),\n",
              " 'split9_test_score': array([1., 1., 1., 1., 1., 1., 1., 1., 1., 1., 1., 1., 1., 1., 1., 1., 1.,\n",
              "        1., 1., 1., 1., 1., 1., 1., 1., 1., 1., 1., 1., 1.]),\n",
              " 'split9_train_score': array([1.        , 0.97777778, 0.95555556, 0.97037037, 0.97037037,\n",
              "        0.97037037, 0.97777778, 0.97777778, 0.97777778, 0.96296296,\n",
              "        0.96296296, 0.96296296, 0.97777778, 0.97037037, 0.97777778,\n",
              "        0.96296296, 0.96296296, 0.95555556, 0.96296296, 0.94074074,\n",
              "        0.94814815, 0.94814815, 0.95555556, 0.95555556, 0.94814815,\n",
              "        0.94074074, 0.93333333, 0.93333333, 0.94074074, 0.94074074]),\n",
              " 'std_fit_time': array([9.51530332e-04, 3.26420112e-05, 2.35559969e-05, 1.94946520e-05,\n",
              "        2.37247931e-05, 1.03914677e-05, 2.54710503e-05, 1.65672609e-05,\n",
              "        1.49263170e-05, 1.66059182e-05, 1.98696533e-05, 1.57252371e-05,\n",
              "        2.85888532e-05, 7.54481009e-05, 1.54829693e-05, 2.34672684e-05,\n",
              "        1.38072149e-05, 2.18080550e-05, 1.96170830e-05, 1.86421528e-05,\n",
              "        2.93708950e-05, 3.69896341e-05, 2.81287549e-05, 2.13413796e-05,\n",
              "        2.71206347e-05, 2.98773869e-05, 1.89741199e-05, 3.48507374e-05,\n",
              "        1.50048653e-05, 2.52996154e-05]),\n",
              " 'std_score_time': array([6.59164897e-05, 6.73503116e-05, 3.15423815e-05, 4.95741889e-05,\n",
              "        4.47959008e-05, 2.68359784e-05, 2.92015656e-05, 4.08451387e-05,\n",
              "        4.44293262e-05, 1.90893495e-05, 4.06592533e-05, 3.95112460e-05,\n",
              "        5.11056272e-05, 6.76263698e-05, 3.53506500e-05, 2.27142846e-05,\n",
              "        6.75316785e-05, 2.67803079e-05, 2.29076089e-05, 3.99629937e-05,\n",
              "        4.62557605e-05, 4.24327739e-05, 2.83206350e-05, 2.87849436e-05,\n",
              "        7.22266016e-05, 3.14518840e-05, 5.99492791e-05, 2.96424488e-05,\n",
              "        8.15675363e-05, 5.60948252e-05]),\n",
              " 'std_test_score': array([0.05333333, 0.05206833, 0.04472136, 0.04472136, 0.04472136,\n",
              "        0.04472136, 0.04472136, 0.04472136, 0.03265986, 0.04472136,\n",
              "        0.04472136, 0.03265986, 0.0305505 , 0.04422166, 0.03265986,\n",
              "        0.03265986, 0.03265986, 0.0305505 , 0.03265986, 0.0305505 ,\n",
              "        0.03333333, 0.03333333, 0.03265986, 0.04422166, 0.03333333,\n",
              "        0.04422166, 0.04472136, 0.04268749, 0.04268749, 0.04268749]),\n",
              " 'std_train_score': array([0.        , 0.00518519, 0.00744435, 0.00698813, 0.00725775,\n",
              "        0.00814815, 0.00592593, 0.00645763, 0.00645763, 0.00645763,\n",
              "        0.00814815, 0.0084132 , 0.00578537, 0.00645763, 0.00296296,\n",
              "        0.00740741, 0.00573775, 0.00811441, 0.00573775, 0.01250514,\n",
              "        0.00996565, 0.01070876, 0.0075541 , 0.00993808, 0.01120944,\n",
              "        0.01373869, 0.0143635 , 0.01168869, 0.01007516, 0.006789  ])}"
            ]
          },
          "metadata": {
            "tags": []
          },
          "execution_count": 29
        }
      ]
    },
    {
      "metadata": {
        "id": "j0PDy8l50Z58",
        "colab_type": "code",
        "colab": {
          "base_uri": "https://localhost:8080/",
          "height": 54
        },
        "outputId": "9a7847d0-6258-4b82-9a72-0f0458802eee"
      },
      "cell_type": "code",
      "source": [
        "# create a list of the mean scores only\n",
        "# list comprehension to loop through grid.grid_scores\n",
        "grid_mean_scores = [result for result in grid.cv_results_['mean_test_score']]\n",
        "print(grid_mean_scores)"
      ],
      "execution_count": 30,
      "outputs": [
        {
          "output_type": "stream",
          "text": [
            "[0.96, 0.9533333333333334, 0.9666666666666667, 0.9666666666666667, 0.9666666666666667, 0.9666666666666667, 0.9666666666666667, 0.9666666666666667, 0.9733333333333334, 0.9666666666666667, 0.9666666666666667, 0.9733333333333334, 0.98, 0.9733333333333334, 0.9733333333333334, 0.9733333333333334, 0.9733333333333334, 0.98, 0.9733333333333334, 0.98, 0.9666666666666667, 0.9666666666666667, 0.9733333333333334, 0.96, 0.9666666666666667, 0.96, 0.9666666666666667, 0.9533333333333334, 0.9533333333333334, 0.9533333333333334]\n"
          ],
          "name": "stdout"
        }
      ]
    },
    {
      "metadata": {
        "id": "BAlFldUXw1Tn",
        "colab_type": "code",
        "colab": {
          "base_uri": "https://localhost:8080/",
          "height": 119
        },
        "outputId": "7d7e0510-6475-4a2e-dcc3-a77634b9ad5e"
      },
      "cell_type": "code",
      "source": [
        "grid.cv_results_['mean_test_score']"
      ],
      "execution_count": 31,
      "outputs": [
        {
          "output_type": "execute_result",
          "data": {
            "text/plain": [
              "array([0.96      , 0.95333333, 0.96666667, 0.96666667, 0.96666667,\n",
              "       0.96666667, 0.96666667, 0.96666667, 0.97333333, 0.96666667,\n",
              "       0.96666667, 0.97333333, 0.98      , 0.97333333, 0.97333333,\n",
              "       0.97333333, 0.97333333, 0.98      , 0.97333333, 0.98      ,\n",
              "       0.96666667, 0.96666667, 0.97333333, 0.96      , 0.96666667,\n",
              "       0.96      , 0.96666667, 0.95333333, 0.95333333, 0.95333333])"
            ]
          },
          "metadata": {
            "tags": []
          },
          "execution_count": 31
        }
      ]
    },
    {
      "metadata": {
        "id": "PY3hBA2r139C",
        "colab_type": "code",
        "colab": {
          "base_uri": "https://localhost:8080/",
          "height": 296
        },
        "outputId": "f8bd2f65-c60b-42a6-9729-0535ba2834dc"
      },
      "cell_type": "code",
      "source": [
        "# plot the results\n",
        "# this is identical to the one we generated above\n",
        "plt.plot(k_range, grid_mean_scores)\n",
        "plt.xlabel('Value of K for KNN')\n",
        "plt.ylabel('Cross-Validated Accuracy')"
      ],
      "execution_count": 30,
      "outputs": [
        {
          "output_type": "execute_result",
          "data": {
            "text/plain": [
              "Text(0,0.5,'Cross-Validated Accuracy')"
            ]
          },
          "metadata": {
            "tags": []
          },
          "execution_count": 30
        },
        {
          "output_type": "display_data",
          "data": {
            "image/png": "[encoded data removed]",
            "text/plain": [
              "<matplotlib.figure.Figure at 0x7fe7a6c4b908>"
            ]
          },
          "metadata": {
            "tags": []
          }
        }
      ]
    },
    {
      "metadata": {
        "id": "C55lnEDf4Qa7",
        "colab_type": "code",
        "colab": {
          "base_uri": "https://localhost:8080/",
          "height": 102
        },
        "outputId": "2e0175a8-7eef-4576-ddc1-454696979fcf"
      },
      "cell_type": "code",
      "source": [
        "# examine the best model\n",
        "\n",
        "# Single best score achieved across all params (k)\n",
        "print(grid.best_score_)\n",
        "\n",
        "# Dictionary containing the parameters (k) used to generate that score\n",
        "print(grid.best_params_)\n",
        "\n",
        "# Actual model object fit with those best parameters\n",
        "# Shows default parameters that we did not specify\n",
        "print(grid.best_estimator_)"
      ],
      "execution_count": 32,
      "outputs": [
        {
          "output_type": "stream",
          "text": [
            "0.98\n",
            "{'n_neighbors': 13}\n",
            "KNeighborsClassifier(algorithm='auto', leaf_size=30, metric='minkowski',\n",
            "           metric_params=None, n_jobs=1, n_neighbors=13, p=2,\n",
            "           weights='uniform')\n"
          ],
          "name": "stdout"
        }
      ]
    },
    {
      "metadata": {
        "id": "adUxZU8k4e4V",
        "colab_type": "text"
      },
      "cell_type": "markdown",
      "source": [
        "# 4. Searching multiple parameters simultaneously\n",
        "Example: tuning max_depth and min_samples_leaf for a DecisionTreeClassifier\n",
        "Could tune parameters independently: change max_depth while leaving min_samples_leaf at its default value, and vice versa\n",
        "But, best performance might be achieved when neither parameter is at its default value"
      ]
    },
    {
      "metadata": {
        "id": "ZyLvNpIx_O_H",
        "colab_type": "code",
        "colab": {}
      },
      "cell_type": "code",
      "source": [
        "# define the parameter values that should be searched\n",
        "k_range = list(range(1, 31))\n",
        "\n",
        "# Another parameter besides k that we might vary is the weights parameters\n",
        "# default options --> uniform (all points in the neighborhood are weighted equally)\n",
        "# another option --> distance (weights closer neighbors more heavily than further neighbors)\n",
        "\n",
        "# we create a list\n",
        "weight_options = ['uniform', 'distance']"
      ],
      "execution_count": 0,
      "outputs": []
    },
    {
      "metadata": {
        "id": "DWkLOOIZ_VfZ",
        "colab_type": "code",
        "colab": {
          "base_uri": "https://localhost:8080/",
          "height": 54
        },
        "outputId": "4d1670bd-1254-4ec9-d7df-e811b3495c66"
      },
      "cell_type": "code",
      "source": [
        "# create a parameter grid: map the parameter names to the values that should be searched\n",
        "# dictionary = dict(key=values, key=values)\n",
        "param_grid = dict(n_neighbors=k_range, weights=weight_options)\n",
        "print(param_grid)"
      ],
      "execution_count": 34,
      "outputs": [
        {
          "output_type": "stream",
          "text": [
            "{'n_neighbors': [1, 2, 3, 4, 5, 6, 7, 8, 9, 10, 11, 12, 13, 14, 15, 16, 17, 18, 19, 20, 21, 22, 23, 24, 25, 26, 27, 28, 29, 30], 'weights': ['uniform', 'distance']}\n"
          ],
          "name": "stdout"
        }
      ]
    },
    {
      "metadata": {
        "id": "fmOmw93O_b13",
        "colab_type": "code",
        "colab": {
          "base_uri": "https://localhost:8080/",
          "height": 173
        },
        "outputId": "22d7def1-cd35-4842-d77d-d468c797c691"
      },
      "cell_type": "code",
      "source": [
        "# instantiate and fit the grid\n",
        "# exhaustive grid-search because it's trying every combination\n",
        "# 10-fold cross-validation is being performed 30 x 2 = 60 times\n",
        "\n",
        "grid = GridSearchCV(knn, param_grid, cv=10, scoring='accuracy')\n",
        "grid.fit(X, y)"
      ],
      "execution_count": 35,
      "outputs": [
        {
          "output_type": "execute_result",
          "data": {
            "text/plain": [
              "GridSearchCV(cv=10, error_score='raise',\n",
              "       estimator=KNeighborsClassifier(algorithm='auto', leaf_size=30, metric='minkowski',\n",
              "           metric_params=None, n_jobs=1, n_neighbors=30, p=2,\n",
              "           weights='uniform'),\n",
              "       fit_params=None, iid=True, n_jobs=1,\n",
              "       param_grid={'n_neighbors': [1, 2, 3, 4, 5, 6, 7, 8, 9, 10, 11, 12, 13, 14, 15, 16, 17, 18, 19, 20, 21, 22, 23, 24, 25, 26, 27, 28, 29, 30], 'weights': ['uniform', 'distance']},\n",
              "       pre_dispatch='2*n_jobs', refit=True, return_train_score='warn',\n",
              "       scoring='accuracy', verbose=0)"
            ]
          },
          "metadata": {
            "tags": []
          },
          "execution_count": 35
        }
      ]
    },
    {
      "metadata": {
        "id": "QjCE-hFUISGX",
        "colab_type": "code",
        "colab": {
          "base_uri": "https://localhost:8080/",
          "height": 1091
        },
        "outputId": "3162b1d5-bd9d-4897-8f39-e7484a0af301"
      },
      "cell_type": "code",
      "source": [
        "# view the complete results\n",
        "grid.grid_scores_"
      ],
      "execution_count": 36,
      "outputs": [
        {
          "output_type": "stream",
          "text": [
            "/usr/local/lib/python3.6/dist-packages/sklearn/model_selection/_search.py:762: DeprecationWarning: The grid_scores_ attribute was deprecated in version 0.18 in favor of the more elaborate cv_results_ attribute. The grid_scores_ attribute will not be available from 0.20\n",
            "  DeprecationWarning)\n"
          ],
          "name": "stderr"
        },
        {
          "output_type": "execute_result",
          "data": {
            "text/plain": [
              "[mean: 0.96000, std: 0.05333, params: {'n_neighbors': 1, 'weights': 'uniform'},\n",
              " mean: 0.96000, std: 0.05333, params: {'n_neighbors': 1, 'weights': 'distance'},\n",
              " mean: 0.95333, std: 0.05207, params: {'n_neighbors': 2, 'weights': 'uniform'},\n",
              " mean: 0.96000, std: 0.05333, params: {'n_neighbors': 2, 'weights': 'distance'},\n",
              " mean: 0.96667, std: 0.04472, params: {'n_neighbors': 3, 'weights': 'uniform'},\n",
              " mean: 0.96667, std: 0.04472, params: {'n_neighbors': 3, 'weights': 'distance'},\n",
              " mean: 0.96667, std: 0.04472, params: {'n_neighbors': 4, 'weights': 'uniform'},\n",
              " mean: 0.96667, std: 0.04472, params: {'n_neighbors': 4, 'weights': 'distance'},\n",
              " mean: 0.96667, std: 0.04472, params: {'n_neighbors': 5, 'weights': 'uniform'},\n",
              " mean: 0.96667, std: 0.04472, params: {'n_neighbors': 5, 'weights': 'distance'},\n",
              " mean: 0.96667, std: 0.04472, params: {'n_neighbors': 6, 'weights': 'uniform'},\n",
              " mean: 0.96667, std: 0.04472, params: {'n_neighbors': 6, 'weights': 'distance'},\n",
              " mean: 0.96667, std: 0.04472, params: {'n_neighbors': 7, 'weights': 'uniform'},\n",
              " mean: 0.96667, std: 0.04472, params: {'n_neighbors': 7, 'weights': 'distance'},\n",
              " mean: 0.96667, std: 0.04472, params: {'n_neighbors': 8, 'weights': 'uniform'},\n",
              " mean: 0.96667, std: 0.04472, params: {'n_neighbors': 8, 'weights': 'distance'},\n",
              " mean: 0.97333, std: 0.03266, params: {'n_neighbors': 9, 'weights': 'uniform'},\n",
              " mean: 0.97333, std: 0.03266, params: {'n_neighbors': 9, 'weights': 'distance'},\n",
              " mean: 0.96667, std: 0.04472, params: {'n_neighbors': 10, 'weights': 'uniform'},\n",
              " mean: 0.97333, std: 0.03266, params: {'n_neighbors': 10, 'weights': 'distance'},\n",
              " mean: 0.96667, std: 0.04472, params: {'n_neighbors': 11, 'weights': 'uniform'},\n",
              " mean: 0.97333, std: 0.03266, params: {'n_neighbors': 11, 'weights': 'distance'},\n",
              " mean: 0.97333, std: 0.03266, params: {'n_neighbors': 12, 'weights': 'uniform'},\n",
              " mean: 0.97333, std: 0.04422, params: {'n_neighbors': 12, 'weights': 'distance'},\n",
              " mean: 0.98000, std: 0.03055, params: {'n_neighbors': 13, 'weights': 'uniform'},\n",
              " mean: 0.97333, std: 0.03266, params: {'n_neighbors': 13, 'weights': 'distance'},\n",
              " mean: 0.97333, std: 0.04422, params: {'n_neighbors': 14, 'weights': 'uniform'},\n",
              " mean: 0.97333, std: 0.03266, params: {'n_neighbors': 14, 'weights': 'distance'},\n",
              " mean: 0.97333, std: 0.03266, params: {'n_neighbors': 15, 'weights': 'uniform'},\n",
              " mean: 0.98000, std: 0.03055, params: {'n_neighbors': 15, 'weights': 'distance'},\n",
              " mean: 0.97333, std: 0.03266, params: {'n_neighbors': 16, 'weights': 'uniform'},\n",
              " mean: 0.97333, std: 0.03266, params: {'n_neighbors': 16, 'weights': 'distance'},\n",
              " mean: 0.97333, std: 0.03266, params: {'n_neighbors': 17, 'weights': 'uniform'},\n",
              " mean: 0.98000, std: 0.03055, params: {'n_neighbors': 17, 'weights': 'distance'},\n",
              " mean: 0.98000, std: 0.03055, params: {'n_neighbors': 18, 'weights': 'uniform'},\n",
              " mean: 0.97333, std: 0.03266, params: {'n_neighbors': 18, 'weights': 'distance'},\n",
              " mean: 0.97333, std: 0.03266, params: {'n_neighbors': 19, 'weights': 'uniform'},\n",
              " mean: 0.98000, std: 0.03055, params: {'n_neighbors': 19, 'weights': 'distance'},\n",
              " mean: 0.98000, std: 0.03055, params: {'n_neighbors': 20, 'weights': 'uniform'},\n",
              " mean: 0.96667, std: 0.04472, params: {'n_neighbors': 20, 'weights': 'distance'},\n",
              " mean: 0.96667, std: 0.03333, params: {'n_neighbors': 21, 'weights': 'uniform'},\n",
              " mean: 0.96667, std: 0.04472, params: {'n_neighbors': 21, 'weights': 'distance'},\n",
              " mean: 0.96667, std: 0.03333, params: {'n_neighbors': 22, 'weights': 'uniform'},\n",
              " mean: 0.96667, std: 0.04472, params: {'n_neighbors': 22, 'weights': 'distance'},\n",
              " mean: 0.97333, std: 0.03266, params: {'n_neighbors': 23, 'weights': 'uniform'},\n",
              " mean: 0.97333, std: 0.03266, params: {'n_neighbors': 23, 'weights': 'distance'},\n",
              " mean: 0.96000, std: 0.04422, params: {'n_neighbors': 24, 'weights': 'uniform'},\n",
              " mean: 0.97333, std: 0.03266, params: {'n_neighbors': 24, 'weights': 'distance'},\n",
              " mean: 0.96667, std: 0.03333, params: {'n_neighbors': 25, 'weights': 'uniform'},\n",
              " mean: 0.97333, std: 0.03266, params: {'n_neighbors': 25, 'weights': 'distance'},\n",
              " mean: 0.96000, std: 0.04422, params: {'n_neighbors': 26, 'weights': 'uniform'},\n",
              " mean: 0.96667, std: 0.04472, params: {'n_neighbors': 26, 'weights': 'distance'},\n",
              " mean: 0.96667, std: 0.04472, params: {'n_neighbors': 27, 'weights': 'uniform'},\n",
              " mean: 0.98000, std: 0.03055, params: {'n_neighbors': 27, 'weights': 'distance'},\n",
              " mean: 0.95333, std: 0.04269, params: {'n_neighbors': 28, 'weights': 'uniform'},\n",
              " mean: 0.97333, std: 0.03266, params: {'n_neighbors': 28, 'weights': 'distance'},\n",
              " mean: 0.95333, std: 0.04269, params: {'n_neighbors': 29, 'weights': 'uniform'},\n",
              " mean: 0.97333, std: 0.03266, params: {'n_neighbors': 29, 'weights': 'distance'},\n",
              " mean: 0.95333, std: 0.04269, params: {'n_neighbors': 30, 'weights': 'uniform'},\n",
              " mean: 0.96667, std: 0.03333, params: {'n_neighbors': 30, 'weights': 'distance'}]"
            ]
          },
          "metadata": {
            "tags": []
          },
          "execution_count": 36
        }
      ]
    },
    {
      "metadata": {
        "id": "GzB4W7ZZIfSO",
        "colab_type": "code",
        "colab": {
          "base_uri": "https://localhost:8080/",
          "height": 51
        },
        "outputId": "7e3fd829-c83f-41ce-9637-e9103252601b"
      },
      "cell_type": "code",
      "source": [
        "# examine the best model\n",
        "print(grid.best_score_)\n",
        "print(grid.best_params_)\n",
        "\n",
        "# Best score did not improve for this model"
      ],
      "execution_count": 37,
      "outputs": [
        {
          "output_type": "stream",
          "text": [
            "0.98\n",
            "{'n_neighbors': 13, 'weights': 'uniform'}\n"
          ],
          "name": "stdout"
        }
      ]
    },
    {
      "metadata": {
        "id": "ILSX_kh0JkMf",
        "colab_type": "text"
      },
      "cell_type": "markdown",
      "source": [
        "# 5. Using the best parameters to make predictions"
      ]
    },
    {
      "metadata": {
        "id": "7sp_8VVGJiot",
        "colab_type": "code",
        "colab": {
          "base_uri": "https://localhost:8080/",
          "height": 34
        },
        "outputId": "3892575d-bd15-475a-f09c-6889e004992b"
      },
      "cell_type": "code",
      "source": [
        "# train your model using all data and the best known parameters\n",
        "\n",
        "# instantiate model with best parameters\n",
        "knn = KNeighborsClassifier(n_neighbors=13, weights='uniform')\n",
        "\n",
        "# fit with X and y, not X_train and y_train\n",
        "# even if we use train/test split, we should train on X and y before making predictions on new data\n",
        "# otherwise we throw away potential valuable data we can learn from\n",
        "knn.fit(X, y)\n",
        "\n",
        "# make a prediction on out-of-sample data\n",
        "knn.predict([[3, 5, 4, 2]])"
      ],
      "execution_count": 40,
      "outputs": [
        {
          "output_type": "execute_result",
          "data": {
            "text/plain": [
              "array([1])"
            ]
          },
          "metadata": {
            "tags": []
          },
          "execution_count": 40
        }
      ]
    },
    {
      "metadata": {
        "id": "t09FbkfCKOqH",
        "colab_type": "code",
        "colab": {
          "base_uri": "https://localhost:8080/",
          "height": 34
        },
        "outputId": "9a8ee2b5-0ba5-4055-bb92-c456dbbc5e40"
      },
      "cell_type": "code",
      "source": [
        "#shortcut: \n",
        "# GridSearchCV automatically refits the best model using all of the data\n",
        "# that best fitted model is stored in grid object \n",
        "# we can then use prediction using the best fitted model\n",
        "# code in this cell is the same as the top\n",
        "\n",
        "grid.predict([[3, 5, 4, 2]])"
      ],
      "execution_count": 44,
      "outputs": [
        {
          "output_type": "execute_result",
          "data": {
            "text/plain": [
              "array([1])"
            ]
          },
          "metadata": {
            "tags": []
          },
          "execution_count": 44
        }
      ]
    },
    {
      "metadata": {
        "id": "YZLWlLZjKlR4",
        "colab_type": "text"
      },
      "cell_type": "markdown",
      "source": [
        "# 6. Reducing computational expense using RandomizedSearchCV¶\n",
        "  * This is a close cousin to GridSearchCV\n",
        "  * Searching many different parameters at once may be computationally infeasible\n",
        "\n",
        "  * For example\n",
        "         * Searching 10 parameters (each range of 1000)\n",
        "         * Require 10,000 trials of CV\n",
        "         * 100,000 model fits with 10-fold CV\n",
        "         * 100,000 predictions with 10-fold CV\n",
        "\n",
        "* RandomizedSearchCV searches a subset of the parameters, and you control the computational \"budget\"\n",
        "    * You can decide how long you want it to run for depending on the computational time we have"
      ]
    },
    {
      "metadata": {
        "id": "GtAJb5sRK9si",
        "colab_type": "code",
        "colab": {
          "base_uri": "https://localhost:8080/",
          "height": 241
        },
        "outputId": "90e6ab09-760b-40b5-9a64-99436c807249"
      },
      "cell_type": "code",
      "source": [
        "from sklearn.grid_search import RandomizedSearchCV\n",
        "# specify \"parameter distributions\" rather than a \"parameter grid\"\n",
        "\n",
        "# since both parameters are discrete, so param_dist is the same as param_grid\n",
        "param_dist = dict(n_neighbors=k_range, weights=weight_options)\n",
        "\n",
        "# if parameters are continuous (like regularization)\n",
        "\n",
        "# n_iter controls the number of searches\n",
        "\n",
        "# instantiate model\n",
        "# 2 new params\n",
        "# n_iter --> controls number of random combinations it will try\n",
        "# random_state for reproducibility \n",
        "rand = RandomizedSearchCV(knn, param_dist, cv=10, scoring='accuracy', n_iter=10, random_state=5)\n",
        "\n",
        "# fit\n",
        "rand.fit(X, y)\n",
        "\n",
        "# scores\n",
        "rand.grid_scores_"
      ],
      "execution_count": 45,
      "outputs": [
        {
          "output_type": "stream",
          "text": [
            "/usr/local/lib/python3.6/dist-packages/sklearn/grid_search.py:42: DeprecationWarning: This module was deprecated in version 0.18 in favor of the model_selection module into which all the refactored classes and functions are moved. This module will be removed in 0.20.\n",
            "  DeprecationWarning)\n"
          ],
          "name": "stderr"
        },
        {
          "output_type": "execute_result",
          "data": {
            "text/plain": [
              "[mean: 0.97333, std: 0.03266, params: {'weights': 'distance', 'n_neighbors': 16},\n",
              " mean: 0.96667, std: 0.03333, params: {'weights': 'uniform', 'n_neighbors': 22},\n",
              " mean: 0.98000, std: 0.03055, params: {'weights': 'uniform', 'n_neighbors': 18},\n",
              " mean: 0.96667, std: 0.04472, params: {'weights': 'uniform', 'n_neighbors': 27},\n",
              " mean: 0.95333, std: 0.04269, params: {'weights': 'uniform', 'n_neighbors': 29},\n",
              " mean: 0.97333, std: 0.03266, params: {'weights': 'distance', 'n_neighbors': 10},\n",
              " mean: 0.96667, std: 0.04472, params: {'weights': 'distance', 'n_neighbors': 22},\n",
              " mean: 0.97333, std: 0.04422, params: {'weights': 'uniform', 'n_neighbors': 14},\n",
              " mean: 0.97333, std: 0.04422, params: {'weights': 'distance', 'n_neighbors': 12},\n",
              " mean: 0.97333, std: 0.03266, params: {'weights': 'uniform', 'n_neighbors': 15}]"
            ]
          },
          "metadata": {
            "tags": []
          },
          "execution_count": 45
        }
      ]
    },
    {
      "metadata": {
        "id": "j-Axk6ngNjsQ",
        "colab_type": "code",
        "colab": {
          "base_uri": "https://localhost:8080/",
          "height": 102
        },
        "outputId": "183dd57c-80c0-47ae-e0c7-487bd2b467f3"
      },
      "cell_type": "code",
      "source": [
        "# examine the best model\n",
        "print(rand.best_score_)\n",
        "print(rand.best_params_)\n",
        "print(rand.best_estimator_)"
      ],
      "execution_count": 46,
      "outputs": [
        {
          "output_type": "stream",
          "text": [
            "0.98\n",
            "{'weights': 'uniform', 'n_neighbors': 18}\n",
            "KNeighborsClassifier(algorithm='auto', leaf_size=30, metric='minkowski',\n",
            "           metric_params=None, n_jobs=1, n_neighbors=18, p=2,\n",
            "           weights='uniform')\n"
          ],
          "name": "stdout"
        }
      ]
    },
    {
      "metadata": {
        "id": "s-wql9vENo3e",
        "colab_type": "code",
        "colab": {
          "base_uri": "https://localhost:8080/",
          "height": 54
        },
        "outputId": "d254672b-eb03-48f4-d085-74203c4f4c5e"
      },
      "cell_type": "code",
      "source": [
        "# run RandomizedSearchCV 20 times (with n_iter=10) and record the best score\n",
        "\n",
        "best_scores = []\n",
        "\n",
        "for _ in list(range(20)):\n",
        "    rand = RandomizedSearchCV(knn, param_dist, cv=10, scoring='accuracy', n_iter=10)\n",
        "    rand.fit(X, y)\n",
        "    best_scores.append(rand.best_score_)\n",
        "\n",
        "print(best_scores)"
      ],
      "execution_count": 47,
      "outputs": [
        {
          "output_type": "stream",
          "text": [
            "[0.98, 0.98, 0.98, 0.98, 0.98, 0.9733333333333334, 0.98, 0.9733333333333334, 0.9733333333333334, 0.98, 0.9733333333333334, 0.9733333333333334, 0.98, 0.9733333333333334, 0.98, 0.98, 0.98, 0.98, 0.9733333333333334, 0.98]\n"
          ],
          "name": "stdout"
        }
      ]
    }
  ]
}