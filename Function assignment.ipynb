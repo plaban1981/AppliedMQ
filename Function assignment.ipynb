{
 "cells": [
  {
   "cell_type": "markdown",
   "metadata": {},
   "source": [
    "# 1.\tWrite a function that inputs a number and prints the multiplication table of that number"
   ]
  },
  {
   "cell_type": "code",
   "execution_count": 8,
   "metadata": {},
   "outputs": [],
   "source": [
    "def mult_table(x):\n",
    "    print(\"Multiplication table of {} is ad follows.\".format(x))\n",
    "    for i in range(10):\n",
    "        print(str(x)+  \" * \" + str(i+1) + \"  = \"+str(x * (i+1)))\n",
    "    "
   ]
  },
  {
   "cell_type": "code",
   "execution_count": 38,
   "metadata": {},
   "outputs": [
    {
     "name": "stdout",
     "output_type": "stream",
     "text": [
      "Enter the number whose multiplication table you intend to see : 23\n",
      "Multiplication table of 23 is ad follows.\n",
      "23 * 1  = 23\n",
      "23 * 2  = 46\n",
      "23 * 3  = 69\n",
      "23 * 4  = 92\n",
      "23 * 5  = 115\n",
      "23 * 6  = 138\n",
      "23 * 7  = 161\n",
      "23 * 8  = 184\n",
      "23 * 9  = 207\n",
      "23 * 10  = 230\n"
     ]
    }
   ],
   "source": [
    "if __name__ == \"__main__\":\n",
    "    x  = int(input(\"Enter the number whose multiplication table you intend to see : \"))\n",
    "    mult_table(x)"
   ]
  },
  {
   "cell_type": "markdown",
   "metadata": {},
   "source": [
    "# 2.\tWrite a program to print twin primes  less than 1000. \n",
    "\n",
    "Note:- If two consecutive odd numbers are both prime then they are known as twin primes"
   ]
  },
  {
   "cell_type": "code",
   "execution_count": 37,
   "metadata": {},
   "outputs": [
    {
     "name": "stdout",
     "output_type": "stream",
     "text": [
      "(3, 5)\n",
      "(5, 7)\n",
      "(11, 13)\n",
      "(17, 19)\n",
      "(29, 31)\n",
      "(41, 43)\n",
      "(59, 61)\n",
      "(71, 73)\n",
      "(101, 103)\n",
      "(107, 109)\n",
      "(137, 139)\n",
      "(149, 151)\n",
      "(179, 181)\n",
      "(191, 193)\n",
      "(197, 199)\n",
      "(227, 229)\n",
      "(239, 241)\n",
      "(269, 271)\n",
      "(281, 283)\n",
      "(311, 313)\n",
      "(347, 349)\n",
      "(419, 421)\n",
      "(431, 433)\n",
      "(461, 463)\n",
      "(521, 523)\n",
      "(569, 571)\n",
      "(599, 601)\n",
      "(617, 619)\n",
      "(641, 643)\n",
      "(659, 661)\n",
      "(809, 811)\n",
      "(821, 823)\n",
      "(827, 829)\n",
      "(857, 859)\n",
      "(881, 883)\n"
     ]
    }
   ],
   "source": [
    "import math\n",
    "\n",
    "\n",
    "def is_prime(n):\n",
    "    for i in range(2, n):\n",
    "        if n % i == 0:\n",
    "            return False\n",
    "    return True\n",
    "\n",
    "def get_primes(lower, upper):\n",
    "    prime = []\n",
    "    for num in range(lower, upper):\n",
    "        if is_prime(num):\n",
    "            prime.append(num)\n",
    "    #print(prime)\n",
    "    return prime\n",
    "    #return [num  if is_prime(num)]\n",
    "\n",
    "def get_twin_primes(primes):\n",
    "    return [(p1, p2) for p1, p2 in zip(primes, primes[1:]) if p2 - p1 == 2]\n",
    "\n",
    "if __name__ == \"__main__\":\n",
    "    primes = get_primes(1, 1000)  \n",
    "    \n",
    "    for a, b in get_twin_primes(primes):\n",
    "        print((a, b))"
   ]
  },
  {
   "cell_type": "markdown",
   "metadata": {},
   "source": [
    "# 3.\tWrite a program to find out the prime factors of a number. Example: prime factors of 56 - 2, 2, 2, 7"
   ]
  },
  {
   "cell_type": "code",
   "execution_count": 42,
   "metadata": {},
   "outputs": [
    {
     "name": "stdout",
     "output_type": "stream",
     "text": [
      "enter the number : 100\n",
      "[2, 2, 5, 5]\n"
     ]
    }
   ],
   "source": [
    "def factors(num):\n",
    "    i = 2\n",
    "    prime_factors = []\n",
    "    while i <= num:\n",
    "        if (num % i) == 0:\n",
    "            prime_factors.append(i)\n",
    "            num = num / i\n",
    "        else:\n",
    "            i = i + 1\n",
    "    return prime_factors\n",
    "\n",
    "if __name__ == \"__main__\":\n",
    "    num = int(input(\"enter the number : \"))\n",
    "    \n",
    "    print(factors(num))"
   ]
  },
  {
   "cell_type": "code",
   "execution_count": null,
   "metadata": {
    "collapsed": true
   },
   "outputs": [],
   "source": [
    "\n"
   ]
  }
 ],
 "metadata": {
  "kernelspec": {
   "display_name": "Python 3",
   "language": "python",
   "name": "python3"
  },
  "language_info": {
   "codemirror_mode": {
    "name": "ipython",
    "version": 3
   },
   "file_extension": ".py",
   "mimetype": "text/x-python",
   "name": "python",
   "nbconvert_exporter": "python",
   "pygments_lexer": "ipython3",
   "version": "3.5.4"
  }
 },
 "nbformat": 4,
 "nbformat_minor": 2
}
